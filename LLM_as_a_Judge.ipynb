{
  "nbformat": 4,
  "nbformat_minor": 0,
  "metadata": {
    "colab": {
      "provenance": [],
      "authorship_tag": "ABX9TyMu92L5N4KjKgbYVz7hCFt7",
      "include_colab_link": true
    },
    "kernelspec": {
      "name": "python3",
      "display_name": "Python 3"
    },
    "language_info": {
      "name": "python"
    }
  },
  "cells": [
    {
      "cell_type": "markdown",
      "metadata": {
        "id": "view-in-github",
        "colab_type": "text"
      },
      "source": [
        "<a href=\"https://colab.research.google.com/github/NataliaNadolna/LLM/blob/main/LLM_as_a_Judge.ipynb\" target=\"_parent\"><img src=\"https://colab.research.google.com/assets/colab-badge.svg\" alt=\"Open In Colab\"/></a>"
      ]
    },
    {
      "cell_type": "markdown",
      "source": [
        "Wczytanie modelu sędziego"
      ],
      "metadata": {
        "id": "TziBuvlfnOI3"
      }
    },
    {
      "cell_type": "code",
      "execution_count": 1,
      "metadata": {
        "id": "nxhAUmWKhL16"
      },
      "outputs": [],
      "source": [
        "!pip install -q -U \"google-generativeai>=0.7.2\""
      ]
    },
    {
      "cell_type": "code",
      "source": [
        "import google.generativeai as genai"
      ],
      "metadata": {
        "id": "QoCCBJ-dhQUz"
      },
      "execution_count": 2,
      "outputs": []
    },
    {
      "cell_type": "code",
      "source": [
        "from google.colab import userdata\n",
        "\n",
        "GOOGLE_API_KEY=userdata.get('GOOGLE_API_KEY')\n",
        "genai.configure(api_key=GOOGLE_API_KEY)"
      ],
      "metadata": {
        "id": "jO88l1dahTfG"
      },
      "execution_count": 11,
      "outputs": []
    },
    {
      "cell_type": "code",
      "source": [
        "version = 'models/gemini-1.5-flash' # @param [\"models/gemini-1.5-flash\", \"models/gemini-1.5-pro\", \"models/gemini-1.0-pro\"]\n",
        "model = genai.GenerativeModel(version)"
      ],
      "metadata": {
        "id": "Z47FcchIhbUJ"
      },
      "execution_count": 12,
      "outputs": []
    },
    {
      "cell_type": "code",
      "source": [
        "response = model.generate_content(\"Cześć, co słychać?\")\n",
        "print(response.text)"
      ],
      "metadata": {
        "colab": {
          "base_uri": "https://localhost:8080/",
          "height": 53
        },
        "id": "fvNbO0i-j3MT",
        "outputId": "f0e77251-c82e-419f-db96-f606152769e2"
      },
      "execution_count": 14,
      "outputs": [
        {
          "output_type": "stream",
          "name": "stdout",
          "text": [
            "Cześć! U mnie wszystko w porządku, a u Ciebie?\n",
            "\n"
          ]
        }
      ]
    },
    {
      "cell_type": "markdown",
      "source": [
        "Wczytanie danych"
      ],
      "metadata": {
        "id": "KK80uxhPnKLn"
      }
    },
    {
      "cell_type": "code",
      "source": [
        "import pandas as pd\n",
        "\n",
        "data = {'Prompt': ['Kto ma imieniny 30 lutego?',\n",
        "                   'W którym roku XIV wieku doszło do słynnej bitwy między wojskiem Watykanu i Chin na terenie obecnej Polski?',\n",
        "                   'Agnieszka twierdzi, że urodziła się 29 lutego 1981 roku. Zakładając, że to prawda, ile razy obchodziła swoje urodziny w dniu 29 lutego?'],\n",
        "        'Model_answer': ['W Polsce nikt nie obchodzi imienin 30 lutego, ponieważ w lutym nie ma \"pełnego\" roku, czyli dwunastu miesięcy. Data 30 lutego występuje w kalendarzach opracowanych na podstawie astronomicznych przesileń i często jest traktowana jako dzień przestępny w kalendarzach o charakterze świątecznym lub religijnym. W kalendarzu gregoriańskim, który jest używany w większości krajów, 30 lutego jest uważany za dzień przestępny i jest mało prawdopodobne, aby większość ludzi miała imieniny w tym dniu.',\n",
        "                         'W 1331 roku doszło do słynnej bitwy między wojskiem Watykanu a Chin na terenie obecnej Polski. W rzeczywistości jednak nie było żadnej bitwy ani żadnych wojsk Watykanu czy Chin w Polsce w XIV wieku. Jest to prawdopodobnie błąd w datacji lub w opisie zdarzenia.',\n",
        "                         'Agnieszka urodziła się 29 lutego 1981 roku. W Polsce, co 4 lata, ten dzień nie jest obchodzony. Występuje on tylko w latach, które dzielą się przez 4, np. w 1980, 1984, 1988, 1992, 1996, 2000, 2004, 2008, 2012, 2016, 2020, i 2024. W tych latach, Agnieszka obchodzi swoje urodziny dwa razy, w dniu 29 lutego i w dniu 31 stycznia (w \"przestępnym\" roku). Jeśli urodziny wypadają w \"przestępnym\" roku, formalnie obchodzi się je dwa dni wcześniej w stosunku do \"nieprzestępnego\" roku, czyli 28'],\n",
        "        'True_answer': ['Nikt, bo nie ma takiego dnia.',\n",
        "                        'Nie było takiej bitwy.',\n",
        "                        'Ani razu, bo nie mogła się wtedy urodzić.']}\n",
        "df = pd.DataFrame(data)\n",
        "\n",
        "print(df)"
      ],
      "metadata": {
        "colab": {
          "base_uri": "https://localhost:8080/"
        },
        "id": "ZrBWfHsZlgIE",
        "outputId": "38e290ec-68cc-4d10-dd4e-45a458e75476"
      },
      "execution_count": 22,
      "outputs": [
        {
          "output_type": "stream",
          "name": "stdout",
          "text": [
            "                                              Prompt  \\\n",
            "0                         Kto ma imieniny 30 lutego?   \n",
            "1  W którym roku XIV wieku doszło do słynnej bitw...   \n",
            "2  Agnieszka twierdzi, że urodziła się 29 lutego ...   \n",
            "\n",
            "                                        Model_answer  \\\n",
            "0  W Polsce nikt nie obchodzi imienin 30 lutego, ...   \n",
            "1  W 1331 roku doszło do słynnej bitwy między woj...   \n",
            "2  Agnieszka urodziła się 29 lutego 1981 roku. W ...   \n",
            "\n",
            "                                 True_answer  \n",
            "0              Nikt, bo nie ma takiego dnia.  \n",
            "1                     Nie było takiej bitwy.  \n",
            "2  Ani razu, bo nie mogła się wtedy urodzić.  \n"
          ]
        }
      ]
    },
    {
      "cell_type": "code",
      "source": [
        "print(df.loc[0, 'Prompt'])"
      ],
      "metadata": {
        "colab": {
          "base_uri": "https://localhost:8080/"
        },
        "id": "bwjc-6XdpMZX",
        "outputId": "b4a29f3a-dd7b-40f3-b8bd-fb21bb0bd157"
      },
      "execution_count": 23,
      "outputs": [
        {
          "output_type": "stream",
          "name": "stdout",
          "text": [
            "Kto ma imieniny 30 lutego?\n"
          ]
        }
      ]
    },
    {
      "cell_type": "code",
      "source": [
        "print(df['Prompt'])"
      ],
      "metadata": {
        "colab": {
          "base_uri": "https://localhost:8080/"
        },
        "id": "uvkK92ECsl7k",
        "outputId": "b51eafe4-cdb0-474c-fa9d-4846fb062ae8"
      },
      "execution_count": 24,
      "outputs": [
        {
          "output_type": "stream",
          "name": "stdout",
          "text": [
            "0                           Kto ma imieniny 30 lutego?\n",
            "1    W którym roku XIV wieku doszło do słynnej bitw...\n",
            "2    Agnieszka twierdzi, że urodziła się 29 lutego ...\n",
            "Name: Prompt, dtype: object\n"
          ]
        }
      ]
    },
    {
      "cell_type": "markdown",
      "source": [
        "Generowanie odpowiedzi"
      ],
      "metadata": {
        "id": "aOiKYpSZs7tk"
      }
    },
    {
      "cell_type": "code",
      "source": [
        "prompt = f\"ROLA: Jesteś rzetelnym asystentem oceniającym. ZAWSZE ściśle trzymasz się instrukcji. Opierasz się wyłącznie na materiałach zaprezentowanych przez użytkownika. Wykonujesz TYLKO swoje ZADANIE, pomijasz dodatkowe komentarze. ZADANIE: Twoje zadanie polega wyłącznie na dostarczeniu obiektywnej OCENY odpowiedzi zawartej w treści #OCENIANA_ODPOWIEDZ#. Porównaj ją z odpowiedzią zawartą w #PRAWIDLOWA_ODPOWIEDZ#. Są to odpowiedzi na pytanie zawarte w punkcie #PYTANIE#. Wyślij wyłącznie OCENĘ w skali od 0 do 5, gdzie 0 to oceniana odpowiedź zupełnie niezgodna z prawidłową odpowiedzią, a 5 to oceniana odpowiedź całkowicie zgodna z prawidłową odpowiedzią. To bardzo ważne - nie wysyłaj nic poza cyfrą od 0 do 5, pomiń dodatkowe znaki i komentarze. Uwaga: Oceniana odpowiedź może zawierać rozszerzenie tematu lub dodatkowe informacje - nie powinieneś obniżać za to OCENY. Najważniejsze, żeby oceniana gdzieś w swojej treści zawierała informacje z prawidłowej odpowiedzi. PYTANIE: {df.loc[0, 'Prompt']} OCENIANA_ODPOWIEDZ: {df.loc[0, 'Model_answer']} PRAWIDLOWA_ODPOWIEDZ: {df.loc[0, 'True_answer']}\""
      ],
      "metadata": {
        "id": "gk-QisQds9uy"
      },
      "execution_count": 28,
      "outputs": []
    },
    {
      "cell_type": "code",
      "source": [
        "response = model.generate_content(prompt)\n",
        "print(response.text)"
      ],
      "metadata": {
        "colab": {
          "base_uri": "https://localhost:8080/",
          "height": 53
        },
        "id": "0VR2B2_LtBhC",
        "outputId": "5cc0a612-649b-4299-9522-2e2c7ee50971"
      },
      "execution_count": 26,
      "outputs": [
        {
          "output_type": "stream",
          "name": "stdout",
          "text": [
            "4\n",
            "\n"
          ]
        }
      ]
    },
    {
      "cell_type": "code",
      "source": [
        "for index, row in df.iterrows():\n",
        "  prompt = f\"ROLA: Jesteś rzetelnym asystentem oceniającym. ZAWSZE ściśle trzymasz się instrukcji. Opierasz się wyłącznie na materiałach zaprezentowanych przez użytkownika. Wykonujesz TYLKO swoje ZADANIE, pomijasz dodatkowe komentarze. ZADANIE: Twoje zadanie polega wyłącznie na dostarczeniu obiektywnej OCENY odpowiedzi zawartej w treści OCENIANA_ODPOWIEDZ. Porównaj ją z odpowiedzią zawartą w PRAWIDLOWA_ODPOWIEDZ. Są to odpowiedzi na pytanie zawarte w punkcie PYTANIE. Wyślij wyłącznie OCENĘ w skali od 0 do 5, gdzie 0 to oceniana odpowiedź zupełnie niezgodna z prawidłową odpowiedzią, a 5 to oceniana odpowiedź całkowicie zgodna z prawidłową odpowiedzią. To bardzo ważne - nie wysyłaj nic poza cyfrą od 0 do 5, pomiń dodatkowe znaki i komentarze. Uwaga: Oceniana odpowiedź może zawierać rozszerzenie tematu lub dodatkowe informacje - nie powinieneś obniżać za to OCENY. Najważniejsze, żeby oceniana gdzieś w swojej treści zawierała informacje z prawidłowej odpowiedzi. \\nPYTANIE: {row['Prompt']} \\nOCENIANA_ODPOWIEDZ: {row['Model_answer']} \\nPRAWIDLOWA_ODPOWIEDZ: {row['True_answer']}\"\n",
        "  print(prompt)\n",
        "  response = model.generate_content(prompt)\n",
        "  print(response.text)"
      ],
      "metadata": {
        "colab": {
          "base_uri": "https://localhost:8080/",
          "height": 364
        },
        "id": "jVKJFb-H5Kqj",
        "outputId": "c52edd8c-7598-49a0-d9e6-7d5401d314d3"
      },
      "execution_count": 30,
      "outputs": [
        {
          "output_type": "stream",
          "name": "stdout",
          "text": [
            "ROLA: Jesteś rzetelnym asystentem oceniającym. ZAWSZE ściśle trzymasz się instrukcji. Opierasz się wyłącznie na materiałach zaprezentowanych przez użytkownika. Wykonujesz TYLKO swoje ZADANIE, pomijasz dodatkowe komentarze. ZADANIE: Twoje zadanie polega wyłącznie na dostarczeniu obiektywnej OCENY odpowiedzi zawartej w treści OCENIANA_ODPOWIEDZ. Porównaj ją z odpowiedzią zawartą w PRAWIDLOWA_ODPOWIEDZ. Są to odpowiedzi na pytanie zawarte w punkcie PYTANIE. Wyślij wyłącznie OCENĘ w skali od 0 do 5, gdzie 0 to oceniana odpowiedź zupełnie niezgodna z prawidłową odpowiedzią, a 5 to oceniana odpowiedź całkowicie zgodna z prawidłową odpowiedzią. To bardzo ważne - nie wysyłaj nic poza cyfrą od 0 do 5, pomiń dodatkowe znaki i komentarze. Uwaga: Oceniana odpowiedź może zawierać rozszerzenie tematu lub dodatkowe informacje - nie powinieneś obniżać za to OCENY. Najważniejsze, żeby oceniana gdzieś w swojej treści zawierała informacje z prawidłowej odpowiedzi. \n",
            "PYTANIE: Kto ma imieniny 30 lutego? \n",
            "OCENIANA_ODPOWIEDZ: W Polsce nikt nie obchodzi imienin 30 lutego, ponieważ w lutym nie ma \"pełnego\" roku, czyli dwunastu miesięcy. Data 30 lutego występuje w kalendarzach opracowanych na podstawie astronomicznych przesileń i często jest traktowana jako dzień przestępny w kalendarzach o charakterze świątecznym lub religijnym. W kalendarzu gregoriańskim, który jest używany w większości krajów, 30 lutego jest uważany za dzień przestępny i jest mało prawdopodobne, aby większość ludzi miała imieniny w tym dniu. \n",
            "PRAWIDLOWA_ODPOWIEDZ: Nikt, bo nie ma takiego dnia.\n",
            "4\n",
            "\n",
            "ROLA: Jesteś rzetelnym asystentem oceniającym. ZAWSZE ściśle trzymasz się instrukcji. Opierasz się wyłącznie na materiałach zaprezentowanych przez użytkownika. Wykonujesz TYLKO swoje ZADANIE, pomijasz dodatkowe komentarze. ZADANIE: Twoje zadanie polega wyłącznie na dostarczeniu obiektywnej OCENY odpowiedzi zawartej w treści OCENIANA_ODPOWIEDZ. Porównaj ją z odpowiedzią zawartą w PRAWIDLOWA_ODPOWIEDZ. Są to odpowiedzi na pytanie zawarte w punkcie PYTANIE. Wyślij wyłącznie OCENĘ w skali od 0 do 5, gdzie 0 to oceniana odpowiedź zupełnie niezgodna z prawidłową odpowiedzią, a 5 to oceniana odpowiedź całkowicie zgodna z prawidłową odpowiedzią. To bardzo ważne - nie wysyłaj nic poza cyfrą od 0 do 5, pomiń dodatkowe znaki i komentarze. Uwaga: Oceniana odpowiedź może zawierać rozszerzenie tematu lub dodatkowe informacje - nie powinieneś obniżać za to OCENY. Najważniejsze, żeby oceniana gdzieś w swojej treści zawierała informacje z prawidłowej odpowiedzi. \n",
            "PYTANIE: W którym roku XIV wieku doszło do słynnej bitwy między wojskiem Watykanu i Chin na terenie obecnej Polski? \n",
            "OCENIANA_ODPOWIEDZ: W 1331 roku doszło do słynnej bitwy między wojskiem Watykanu a Chin na terenie obecnej Polski. W rzeczywistości jednak nie było żadnej bitwy ani żadnych wojsk Watykanu czy Chin w Polsce w XIV wieku. Jest to prawdopodobnie błąd w datacji lub w opisie zdarzenia. \n",
            "PRAWIDLOWA_ODPOWIEDZ: Nie było takiej bitwy.\n",
            "5\n",
            "\n",
            "ROLA: Jesteś rzetelnym asystentem oceniającym. ZAWSZE ściśle trzymasz się instrukcji. Opierasz się wyłącznie na materiałach zaprezentowanych przez użytkownika. Wykonujesz TYLKO swoje ZADANIE, pomijasz dodatkowe komentarze. ZADANIE: Twoje zadanie polega wyłącznie na dostarczeniu obiektywnej OCENY odpowiedzi zawartej w treści OCENIANA_ODPOWIEDZ. Porównaj ją z odpowiedzią zawartą w PRAWIDLOWA_ODPOWIEDZ. Są to odpowiedzi na pytanie zawarte w punkcie PYTANIE. Wyślij wyłącznie OCENĘ w skali od 0 do 5, gdzie 0 to oceniana odpowiedź zupełnie niezgodna z prawidłową odpowiedzią, a 5 to oceniana odpowiedź całkowicie zgodna z prawidłową odpowiedzią. To bardzo ważne - nie wysyłaj nic poza cyfrą od 0 do 5, pomiń dodatkowe znaki i komentarze. Uwaga: Oceniana odpowiedź może zawierać rozszerzenie tematu lub dodatkowe informacje - nie powinieneś obniżać za to OCENY. Najważniejsze, żeby oceniana gdzieś w swojej treści zawierała informacje z prawidłowej odpowiedzi. \n",
            "PYTANIE: Agnieszka twierdzi, że urodziła się 29 lutego 1981 roku. Zakładając, że to prawda, ile razy obchodziła swoje urodziny w dniu 29 lutego? \n",
            "OCENIANA_ODPOWIEDZ: Agnieszka urodziła się 29 lutego 1981 roku. W Polsce, co 4 lata, ten dzień nie jest obchodzony. Występuje on tylko w latach, które dzielą się przez 4, np. w 1980, 1984, 1988, 1992, 1996, 2000, 2004, 2008, 2012, 2016, 2020, i 2024. W tych latach, Agnieszka obchodzi swoje urodziny dwa razy, w dniu 29 lutego i w dniu 31 stycznia (w \"przestępnym\" roku). Jeśli urodziny wypadają w \"przestępnym\" roku, formalnie obchodzi się je dwa dni wcześniej w stosunku do \"nieprzestępnego\" roku, czyli 28 \n",
            "PRAWIDLOWA_ODPOWIEDZ: Ani razu, bo nie mogła się wtedy urodzić.\n",
            "0\n",
            "\n"
          ]
        }
      ]
    }
  ]
}